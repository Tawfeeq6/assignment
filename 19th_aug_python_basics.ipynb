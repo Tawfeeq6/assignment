{
 "cells": [
  {
   "cell_type": "code",
   "execution_count": 1,
   "id": "09d368e4-20cf-4c10-b300-e0291bf07e39",
   "metadata": {},
   "outputs": [],
   "source": [
    "#taking x & y as variables \n",
    "x=5"
   ]
  },
  {
   "cell_type": "code",
   "execution_count": 2,
   "id": "488c93a5-02a3-49ab-ba0d-b2d0446b2926",
   "metadata": {
    "tags": []
   },
   "outputs": [],
   "source": [
    "y=10"
   ]
  },
  {
   "cell_type": "code",
   "execution_count": 3,
   "id": "63931082-259b-4ce8-bbdc-53e570a58442",
   "metadata": {},
   "outputs": [],
   "source": [
    "#swapping values of variables\n",
    "x,y =y,x"
   ]
  },
  {
   "cell_type": "code",
   "execution_count": 4,
   "id": "a40e549e-0b33-4775-a09b-7ecea7aa03e8",
   "metadata": {},
   "outputs": [
    {
     "name": "stdout",
     "output_type": "stream",
     "text": [
      "value of x after swapping is 10\n"
     ]
    }
   ],
   "source": [
    "print(\"value of x after swapping is\",x)"
   ]
  },
  {
   "cell_type": "code",
   "execution_count": 5,
   "id": "91193a70-2977-49d4-b021-bb3481ad8a8d",
   "metadata": {},
   "outputs": [
    {
     "name": "stdout",
     "output_type": "stream",
     "text": [
      "value of y after swapping is 5\n"
     ]
    }
   ],
   "source": [
    "print(\"value of y after swapping is\",y)"
   ]
  },
  {
   "cell_type": "code",
   "execution_count": 6,
   "id": "6876c0dc-0cf8-4efd-b28f-3c3ed2b3c4cc",
   "metadata": {},
   "outputs": [],
   "source": [
    "#question 3"
   ]
  },
  {
   "cell_type": "code",
   "execution_count": 8,
   "id": "75cfb92b-6bf6-4d9b-9865-6dcbcdc6674e",
   "metadata": {},
   "outputs": [
    {
     "name": "stdin",
     "output_type": "stream",
     "text": [
      "Enter the temperature in Celsius:  35.6\n"
     ]
    }
   ],
   "source": [
    "#QUESTION 3\n",
    "# step 1 in this im taking input temperatue input from user in celcius\n",
    "# here in step 1 im taking input in float as temp usually is  floating value ie 35.6 eg \n",
    "celsius = float(input(\"Enter the temperature in Celsius: \"))"
   ]
  },
  {
   "cell_type": "code",
   "execution_count": 9,
   "id": "d0af5b6b-10a8-47c9-ae98-a7c384adcf95",
   "metadata": {},
   "outputs": [],
   "source": [
    "# here in this step i convert the celcius into farenhite by using the formullae below\n",
    "fahrenheit = (celsius * 9/5) + 32"
   ]
  },
  {
   "cell_type": "code",
   "execution_count": 10,
   "id": "c82dd70a-fadb-435f-a220-18b77cb86dcd",
   "metadata": {},
   "outputs": [
    {
     "name": "stdout",
     "output_type": "stream",
     "text": [
      "Temperature in Fahrenheit: 96.08000000000001\n"
     ]
    }
   ],
   "source": [
    "# at last im getting my output in farenhite \n",
    "print(\"Temperature in Fahrenheit:\", fahrenheit)"
   ]
  },
  {
   "cell_type": "code",
   "execution_count": 11,
   "id": "7a6be646-3393-44b4-9c3b-f46844035866",
   "metadata": {},
   "outputs": [],
   "source": [
    "#question 2"
   ]
  },
  {
   "cell_type": "code",
   "execution_count": 17,
   "id": "0442ca05-262f-4ae5-9e56-bc665a13c6a9",
   "metadata": {},
   "outputs": [
    {
     "name": "stdin",
     "output_type": "stream",
     "text": [
      "Enter the length of the rectangle:  5\n",
      "Enter the width of the rectangle:  4\n"
     ]
    }
   ],
   "source": [
    "# QUESTION 2\n",
    "# Take input for length and width from the user to calculate area \n",
    "length = float(input(\"Enter the length of the rectangle: \"))\n",
    "width = float(input(\"Enter the width of the rectangle: \"))"
   ]
  },
  {
   "cell_type": "code",
   "execution_count": 18,
   "id": "a7a79e5e-f055-440b-8679-d96629f220ae",
   "metadata": {},
   "outputs": [],
   "source": [
    "area = length*width"
   ]
  },
  {
   "cell_type": "code",
   "execution_count": 19,
   "id": "9ac2b938-46b8-4c0e-836b-8245528288af",
   "metadata": {},
   "outputs": [
    {
     "name": "stdout",
     "output_type": "stream",
     "text": [
      "the area of the rectangle is 20.0\n"
     ]
    }
   ],
   "source": [
    "print(\"the area of the rectangle is\",area)"
   ]
  },
  {
   "cell_type": "code",
   "execution_count": 21,
   "id": "24d24333-478d-4176-bafa-0a22bb95490d",
   "metadata": {},
   "outputs": [],
   "source": [
    "#String based questions\n",
    "#Question 1"
   ]
  },
  {
   "cell_type": "code",
   "execution_count": 22,
   "id": "31d591f4-e9e1-47e3-b629-53a636bbf305",
   "metadata": {},
   "outputs": [
    {
     "name": "stdin",
     "output_type": "stream",
     "text": [
      "enter your name Tawfeeq\n"
     ]
    }
   ],
   "source": [
    "#STEP 1 FISRT I TAKE THE INPUT FROM USER AS STRING\n",
    "x = str(input(\"enter your name\"))"
   ]
  },
  {
   "cell_type": "code",
   "execution_count": 23,
   "id": "716d0896-9ba4-41c5-96f8-808fd311d554",
   "metadata": {},
   "outputs": [],
   "source": [
    "#STEP 2 AS I HAVE TO CALCULATE THE LENGTH OF STRING THEIR IS A INBUILT FUNCTION IN PYTHON NAMLEY LEN()\n",
    "#       I USED THAT FUNCTION TO CALCULATE THE LENGTYH OF THE INPUT STRING\n",
    "length_of_string= len(x)\n"
   ]
  },
  {
   "cell_type": "code",
   "execution_count": 25,
   "id": "0bcdcd6c-0ff4-49c2-b740-1b2802526afe",
   "metadata": {},
   "outputs": [
    {
     "name": "stdout",
     "output_type": "stream",
     "text": [
      "THE LENGTH OF INPUT STRING: 7\n"
     ]
    }
   ],
   "source": [
    "#STEP 3 DISPLAYS THE LENGTH OF STRING\n",
    "print(\"THE LENGTH OF INPUT STRING:\",length_of_string)\n"
   ]
  },
  {
   "cell_type": "code",
   "execution_count": 26,
   "id": "ff8a7394-d991-451f-ba59-9fcdc414dca4",
   "metadata": {},
   "outputs": [],
   "source": [
    "#question 2"
   ]
  },
  {
   "cell_type": "code",
   "execution_count": 27,
   "id": "efee1381-1c76-4c3d-a0c2-ee02684dad1d",
   "metadata": {},
   "outputs": [
    {
     "name": "stdin",
     "output_type": "stream",
     "text": [
      "Enter a sentence:  spartan\n"
     ]
    }
   ],
   "source": [
    "# Take input sentence from the user\n",
    "sentence = input(\"Enter a sentence: \")\n"
   ]
  },
  {
   "cell_type": "code",
   "execution_count": 28,
   "id": "ec0bf387-feb3-4d5e-943d-544390cb924e",
   "metadata": {},
   "outputs": [],
   "source": [
    "# Define a function to count vowels in a string\n",
    "def count_vowels(input_string):\n",
    "    vowels = 'aeiouAEIOU'\n",
    "    vowel_count = 0\n",
    "    for char in input_string:\n",
    "        if char in vowels:\n",
    "            vowel_count += 1\n",
    "    return vowel_count"
   ]
  },
  {
   "cell_type": "code",
   "execution_count": 29,
   "id": "efbb05ca-53d1-4c10-8861-a0238a149704",
   "metadata": {},
   "outputs": [],
   "source": [
    "# Call the function to count vowels in the sentence\n",
    "find_vowels = count_vowels(sentence)\n"
   ]
  },
  {
   "cell_type": "code",
   "execution_count": 30,
   "id": "9f03dc47-51a4-4a07-a8b0-8abcc57f24b4",
   "metadata": {},
   "outputs": [
    {
     "name": "stdout",
     "output_type": "stream",
     "text": [
      "Number of vowels in the sentence: 2\n"
     ]
    }
   ],
   "source": [
    "# Display the number of vowels in the sentence\n",
    "print(\"Number of vowels in the sentence:\", find_vowels)"
   ]
  },
  {
   "cell_type": "code",
   "execution_count": 31,
   "id": "301b1841-2047-4027-9a13-a58a96118e15",
   "metadata": {},
   "outputs": [],
   "source": [
    "#auestion 3"
   ]
  },
  {
   "cell_type": "code",
   "execution_count": 32,
   "id": "9cecb58f-0815-40aa-a1ed-23a260603a00",
   "metadata": {},
   "outputs": [
    {
     "name": "stdin",
     "output_type": "stream",
     "text": [
      "Enter a string:  tawfeeq\n"
     ]
    }
   ],
   "source": [
    "# Take input from the user AS STRING\n",
    "input_string = input(\"Enter a string: \")"
   ]
  },
  {
   "cell_type": "code",
   "execution_count": 33,
   "id": "a42fbb38-248e-41aa-a30a-abd7b150dfba",
   "metadata": {},
   "outputs": [],
   "source": [
    "\n",
    "# Reverse the string using string slicing\n",
    "#[::-1] is used to create a reversed copy of the string by slicing it with a step of -1, \n",
    "\n",
    "reversed_string = input_string[::-1]\n"
   ]
  },
  {
   "cell_type": "code",
   "execution_count": 34,
   "id": "644da779-b36c-4e86-8dea-7aed57351c44",
   "metadata": {},
   "outputs": [
    {
     "name": "stdout",
     "output_type": "stream",
     "text": [
      "Reversed string: qeefwat\n"
     ]
    }
   ],
   "source": [
    "# Print the reversed string\n",
    "print(\"Reversed string:\", reversed_string)"
   ]
  },
  {
   "cell_type": "code",
   "execution_count": 38,
   "id": "dd723cb0-9a70-48b0-be52-db4977e5340d",
   "metadata": {},
   "outputs": [],
   "source": [
    "#question 4"
   ]
  },
  {
   "cell_type": "code",
   "execution_count": 42,
   "id": "6849db1a-a519-49ca-bcfc-0e4faa2f0f35",
   "metadata": {},
   "outputs": [
    {
     "name": "stdin",
     "output_type": "stream",
     "text": [
      "Enter a string:  tawfeeq\n"
     ]
    }
   ],
   "source": [
    "# STEP 1 WE  Take input string from the user\n",
    "input_string = input(\"Enter a string: \")"
   ]
  },
  {
   "cell_type": "code",
   "execution_count": 44,
   "id": "167f7b51-ece8-46a8-a2c9-f4643fbb9218",
   "metadata": {},
   "outputs": [
    {
     "name": "stdout",
     "output_type": "stream",
     "text": [
      "The string is not a palindrome.\n"
     ]
    }
   ],
   "source": [
    "# STEP 2 We Define a function to check if a string is a palindrome\n",
    "def is_palindrome(input_string):\n",
    "    # Here We  Remove spaces and convert to lowercase for case-insensitive comparison\n",
    "    modified_string = input_string.replace(\" \", \"\").lower()\n",
    "# Now  Check if the cleaned string is equal to its reverse\n",
    "    return modified_string == modified_string[::-1]\n",
    "\n",
    "# Check if the input string is a palindrome\n",
    "if is_palindrome(input_string):\n",
    "    print(\"The string is a palindrome.\")\n",
    "else:\n",
    "    print(\"The string is not a palindrome.\")"
   ]
  },
  {
   "cell_type": "code",
   "execution_count": null,
   "id": "f7a1a987-f931-4042-b3f0-bfd3d25f78c7",
   "metadata": {},
   "outputs": [],
   "source": []
  }
 ],
 "metadata": {
  "kernelspec": {
   "display_name": "Python 3 (ipykernel)",
   "language": "python",
   "name": "python3"
  },
  "language_info": {
   "codemirror_mode": {
    "name": "ipython",
    "version": 3
   },
   "file_extension": ".py",
   "mimetype": "text/x-python",
   "name": "python",
   "nbconvert_exporter": "python",
   "pygments_lexer": "ipython3",
   "version": "3.10.8"
  }
 },
 "nbformat": 4,
 "nbformat_minor": 5
}
